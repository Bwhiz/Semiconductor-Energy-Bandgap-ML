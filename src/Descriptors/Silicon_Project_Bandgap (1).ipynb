{
  "cells": [
    {
      "cell_type": "code",
      "execution_count": null,
      "metadata": {
        "id": "0gUqojLVOS9S"
      },
      "outputs": [],
      "source": [
        "from mp_api.client import MPRester\n",
        "import requests\n",
        "import logging\n",
        "\n",
        "# Set logging level to ERROR to suppress INFO logs including the loading bar\n",
        "logging.getLogger(\"mp_api\").setLevel(logging.ERROR)"
      ]
    },
    {
      "cell_type": "code",
      "execution_count": null,
      "metadata": {
        "colab": {
          "base_uri": "https://localhost:8080/",
          "height": 104,
          "referenced_widgets": [
            "5d30fb6f85f6418cb0aac01fa5e39321",
            "13d90735808a4ba9adb68a1a9980c106",
            "fc199667a0a7481585ce4d8a4730b2ae",
            "d1407a3fbcc6435a8697fe3229bbda27",
            "844bfe8c8a4e491bb873d383839261ff",
            "995ae1d9e1a64e1abb185698577b3099",
            "670f6fb32a51410aacad56e05633996f",
            "e2cc74ec92f54a36a575908364355b5d",
            "5d7092e7bd00474ab42e62a3e45f0d11",
            "bd2bc0ae047d4aba949ffd1574de27ca",
            "2ad8c48e5c4b423fa6d270ba98ad90b3"
          ]
        },
        "id": "Sgfi3JadUUWq",
        "outputId": "fed99e76-0f9f-4b25-bdbf-9321d2443721",
        "collapsed": true
      },
      "outputs": [
        {
          "output_type": "stream",
          "name": "stderr",
          "text": [
            "<ipython-input-3-cfb8ae7ce186>:5: DeprecationWarning: Accessing summary data through MPRester.summary is deprecated. Please use MPRester.materials.summary instead.\n",
            "  docs = mpr.summary.search(elements=[\"Si\"], fields=[\"material_id\", \"band_gap\",\"formula_pretty\"])\n"
          ]
        },
        {
          "output_type": "display_data",
          "data": {
            "text/plain": [
              "Retrieving SummaryDoc documents:   0%|          | 0/12658 [00:00<?, ?it/s]"
            ],
            "application/vnd.jupyter.widget-view+json": {
              "version_major": 2,
              "version_minor": 0,
              "model_id": "5d30fb6f85f6418cb0aac01fa5e39321"
            }
          },
          "metadata": {}
        }
      ],
      "source": [
        "import pandas as pd\n",
        "import numpy as np\n",
        "\n",
        "with MPRester(\"lBZg9sC9Y2fLyEjv7aP1X4SspH9OKIKd\") as mpr:\n",
        "  docs = mpr.summary.search(elements=[\"Si\"], fields=[\"material_id\", \"band_gap\",\"formula_pretty\"])\n",
        "  mpids = [doc.material_id for doc in docs]\n",
        "\n",
        "def descriptors(cif):\n",
        "\n",
        "    atomic_numbers = []\n",
        "\n",
        "    distance_matrix = []\n",
        "    van_der_waals_radius = []\n",
        "    electrical_resistivity = []\n",
        "    velocity_of_sound = []\n",
        "    reflectivity = []\n",
        "    poissons_ratio = []\n",
        "    molar_volume = []\n",
        "    thermal_conductivity = []\n",
        "    melting_point = []\n",
        "    critical_temperature = []\n",
        "    superconduction_temperature = []\n",
        "    liquid_range = []\n",
        "    bulk_modulus = []\n",
        "    youngs_modulus = []\n",
        "    brinell_hardness = []\n",
        "    rigidity_modulus = []\n",
        "    # mineral_hardness = []\n",
        "    vickers_hardness = []\n",
        "    density_of_solid = []\n",
        "    coefficient_of_linear_thermal_expansion = []\n",
        "    average_ionic_radius = []\n",
        "    average_cationic_radius = []\n",
        "    average_anionic_radius = []\n",
        "\n",
        "\n",
        "    full_structure = mpr.get_structure_by_material_id(cif.material_id)\n",
        "\n",
        "    structure = full_structure[0]\n",
        "\n",
        "    numElements = len(full_structure.atomic_numbers)\n",
        "\n",
        "    num_metals = 0\n",
        "    for e in structure.species:\n",
        "        if e.Z in range(3, 4+1) or e.Z in range(11, 12+1) or e.Z in range(19, 30+1) or e.Z in range(37, 48+1) or e.Z in range(55, 80 + 1) or e.Z in range(87, 112+1):\n",
        "            num_metals += 1\n",
        "    metals_fraction = num_metals/numElements\n",
        "\n",
        "    spg = full_structure.get_space_group_info()\n",
        "\n",
        "    spacegroup_numbers = {}\n",
        "    for i in range(1, 231):\n",
        "        spacegroup_numbers[i] = 0\n",
        "\n",
        "    spacegroup_numbers[spg[1]] = 1\n",
        "\n",
        "    spacegroup_numbers_list = []\n",
        "    for i in range(1, 231):\n",
        "        spacegroup_numbers_list += [spacegroup_numbers[i]]\n",
        "\n",
        "    atomic_numbers = [np.mean(full_structure.atomic_numbers), np.max(full_structure.atomic_numbers), np.min(\n",
        "        full_structure.atomic_numbers), np.std(full_structure.atomic_numbers)]\n",
        "\n",
        "    # Lattice parameters:\n",
        "    a_parameters = structure.lattice.abc[0]\n",
        "    b_parameters = structure.lattice.abc[1]\n",
        "    c_parameters = structure.lattice.abc[2]\n",
        "    alpha_parameters = structure.lattice.angles[0]\n",
        "    beta_parameters = structure.lattice.angles[1]\n",
        "    gamma_parameters = structure.lattice.angles[2]\n",
        "\n",
        "    distance_matrix += [np.mean(full_structure.distance_matrix), np.max(full_structure.distance_matrix),\n",
        "                        np.min(full_structure.distance_matrix), np.std(full_structure.distance_matrix)]\n",
        "\n",
        "    e1, e2, e3, e4, e5, e6, e7, e8, e9, e10, e11, e12, e13, e14, e15, e16, e17, e18, e19, e20, e21, e22, e23 = [\n",
        "    ], [], [], [], [], [], [], [], [], [], [], [], [], [], [], [], [], [], [], [], [], [], []\n",
        "    for e in structure.species:\n",
        "        e1 += [e.van_der_waals_radius]\n",
        "        e2 += [e.electrical_resistivity]\n",
        "        e3 += [e.velocity_of_sound]\n",
        "        e4 += [e.reflectivity]\n",
        "        e6 += [e.poissons_ratio]\n",
        "        e7 += [e.molar_volume]\n",
        "        e8 += [e.thermal_conductivity]\n",
        "        e9 += [e.melting_point]\n",
        "        e10 += [e.critical_temperature]\n",
        "        e11 += [e.superconduction_temperature]\n",
        "        e12 += [e.liquid_range]\n",
        "        e13 += [e.bulk_modulus]\n",
        "        e14 += [e.youngs_modulus]\n",
        "        e15 += [e.brinell_hardness]\n",
        "        e16 += [e.rigidity_modulus]\n",
        "        # e17 +=[e.mineral_hardness ]\n",
        "        e18 += [e.vickers_hardness]\n",
        "        e19 += [e.density_of_solid]\n",
        "        e20 += [e.coefficient_of_linear_thermal_expansion]\n",
        "        e21 += [e.average_ionic_radius]\n",
        "        e22 += [e.average_cationic_radius]\n",
        "        e23 += [e.average_anionic_radius]\n",
        "\n",
        "    e1 = [0 if v is None else v for v in e1]\n",
        "    e2 = [0 if v is None else v for v in e2]\n",
        "    e3 = [0 if v is None else v for v in e3]\n",
        "    e4 = [0 if v is None else v for v in e4]\n",
        "    # e5=[0 if v is None else v for v in e5]\n",
        "    e6 = [0 if v is None else v for v in e6]\n",
        "    e7 = [0 if v is None else v for v in e7]\n",
        "    e8 = [0 if v is None else v for v in e8]\n",
        "    e9 = [0 if v is None else v for v in e9]\n",
        "    e10 = [0 if v is None else v for v in e10]\n",
        "    e11 = [0 if v is None else v for v in e11]\n",
        "    e12 = [0 if v is None else v for v in e12]\n",
        "    e13 = [0 if v is None else v for v in e13]\n",
        "    e14 = [0 if v is None else v for v in e14]\n",
        "    e15 = [0 if v is None else v for v in e15]\n",
        "    e16 = [0 if v is None else v for v in e16]\n",
        "    # e17=[0 if v is None else v for v in e17]\n",
        "    e18 = [0 if v is None else v for v in e18]\n",
        "    e19 = [0 if v is None else v for v in e19]\n",
        "    e20 = [0 if v is None else v for v in e20]\n",
        "    e21 = [0 if v is None else v for v in e21]\n",
        "    e22 = [0 if v is None else v for v in e22]\n",
        "    e23 = [0 if v is None else v for v in e23]\n",
        "\n",
        "    van_der_waals_radius = [np.mean(e1), np.max(e1), np.min(e1), np.std(e1)]\n",
        "    electrical_resistivity = [np.mean(e2), np.max(e2), np.min(e2), np.std(e2)]\n",
        "    velocity_of_sound = [np.mean(e3), np.max(e3), np.min(e3), np.std(e3)]\n",
        "    reflectivity = [np.mean(e4), np.max(e4), np.min(e4), np.std(e4)]\n",
        "    poissons_ratio = [np.mean(e6), np.max(e6), np.min(e6), np.std(e6)]\n",
        "    molar_volume = [np.mean(e7), np.max(e7), np.min(e7), np.std(e7)]\n",
        "    thermal_conductivity = [np.mean(e8), np.max(e8), np.min(e8), np.std(e8)]\n",
        "    melting_point = [np.mean(e9), np.max(e9), np.min(e9), np.std(e9)]\n",
        "    critical_temperature = [np.mean(e10), np.max(\n",
        "        e10), np.min(e10), np.std(e10)]\n",
        "    superconduction_temperature = [\n",
        "        np.mean(e11), np.max(e11), np.min(e11), np.std(e11)]\n",
        "    liquid_range = [np.mean(e12), np.max(e12), np.min(e12), np.std(e12)]\n",
        "    bulk_modulus = [np.mean(e13), np.max(e13), np.min(e13), np.std(e13)]\n",
        "    youngs_modulus = [np.mean(e14), np.max(e14), np.min(e14), np.std(e14)]\n",
        "    brinell_hardness = [np.mean(e15), np.max(e15), np.min(e15), np.std(e15)]\n",
        "    rigidity_modulus = [np.mean(e16), np.max(e16), np.min(e16), np.std(e16)]\n",
        "    vickers_hardness = [np.mean(e18), np.max(e18), np.min(e18), np.std(e18)]\n",
        "    density_of_solid = [np.mean(e19), np.max(e19), np.min(e19), np.std(e19)]\n",
        "    coefficient_of_linear_thermal_expansion = [\n",
        "        np.mean(e20), np.max(e20), np.min(e20), np.std(e20)]\n",
        "    average_ionic_radius = [np.mean(e21), np.max(\n",
        "        e21), np.min(e21), np.std(e21)]\n",
        "    average_cationic_radius = [\n",
        "        np.mean(e22), np.max(e22), np.min(e22), np.std(e22)]\n",
        "    average_anionic_radius = [\n",
        "        np.mean(e23), np.max(e23), np.min(e23), np.std(e23)]\n",
        "\n",
        "    V = full_structure.volume\n",
        "\n",
        "    volume_per_atom = V / numElements\n",
        "\n",
        "    atom_volume = 0\n",
        "    for e in structure.species:\n",
        "        atom_volume += 4/3*np.pi*e.average_ionic_radius**3\n",
        "    empty_volume = V - atom_volume\n",
        "\n",
        "    descriptors_dict = {\n",
        "        \"atomic_numbers\": atomic_numbers,\n",
        "        \"volume_per_atom\": [volume_per_atom],\n",
        "        \"empty_volume\": [empty_volume],\n",
        "        \"metals_fraction\": [metals_fraction],\n",
        "        \"distance_matrix\": distance_matrix,\n",
        "        \"van_der_waals_radius\": van_der_waals_radius,\n",
        "        \"electrical_resistivity\": electrical_resistivity,\n",
        "        \"velocity_of_sound\": velocity_of_sound,\n",
        "        \"reflectivity\": reflectivity,\n",
        "        \"poissons_ratio\": poissons_ratio,\n",
        "        \"molar_volume\": molar_volume,\n",
        "        \"thermal_conductivity\": thermal_conductivity,\n",
        "        \"melting_point\": melting_point,\n",
        "        \"critical_temperature\": critical_temperature,\n",
        "        \"superconduction_temperature\": superconduction_temperature,\n",
        "        \"liquid_range\": liquid_range,\n",
        "        \"bulk_modulus\": bulk_modulus,\n",
        "        \"youngs_modulus\": youngs_modulus,\n",
        "        \"brinell_hardness\": brinell_hardness,\n",
        "        \"rigidity_modulus\": rigidity_modulus,\n",
        "        \"vickers_hardness\": vickers_hardness,\n",
        "        \"density_of_solid\": density_of_solid,\n",
        "        \"coefficient_of_linear_thermal_expansion\": coefficient_of_linear_thermal_expansion,\n",
        "        \"average_ionic_radius\": average_ionic_radius,\n",
        "        \"average_cationic_radius\": average_cationic_radius,\n",
        "        \"average_anionic_radius\": average_anionic_radius,\n",
        "        \"spacegroup_numbers\": spacegroup_numbers_list\n",
        "    }\n",
        "    return descriptors_dict\n"
      ]
    },
    {
      "cell_type": "code",
      "execution_count": null,
      "metadata": {
        "id": "g_BmKTWf5ZLa"
      },
      "outputs": [],
      "source": []
    },
    {
      "cell_type": "code",
      "execution_count": null,
      "metadata": {
        "id": "RHhl9fPpZVRW"
      },
      "outputs": [],
      "source": [
        "def uneven_dict_converter(output):\n",
        "\n",
        "    return pd.DataFrame({keys:[values] for keys,values in output.items()})"
      ]
    },
    {
      "cell_type": "code",
      "execution_count": null,
      "metadata": {
        "id": "TCZzSxROa2uI"
      },
      "outputs": [],
      "source": [
        "output_df = pd.DataFrame(columns=df.columns)"
      ]
    },
    {
      "cell_type": "code",
      "execution_count": null,
      "metadata": {
        "id": "UTZpT_E7bDlh"
      },
      "outputs": [],
      "source": [
        "output_df"
      ]
    },
    {
      "cell_type": "code",
      "execution_count": null,
      "metadata": {
        "colab": {
          "base_uri": "https://localhost:8080/"
        },
        "id": "3WoeiQwQcZh0",
        "outputId": "c83b2ef9-e42b-4eaf-9893-0d5e47a9d559"
      },
      "outputs": [
        {
          "output_type": "stream",
          "name": "stdout",
          "text": [
            "Requirement already satisfied: tqdm in /usr/local/lib/python3.10/dist-packages (4.66.5)\n"
          ]
        }
      ],
      "source": [
        "!pip install tqdm"
      ]
    },
    {
      "cell_type": "code",
      "execution_count": null,
      "metadata": {
        "id": "LZyoMsgvclgH"
      },
      "outputs": [],
      "source": [
        "from tqdm.auto import tqdm"
      ]
    },
    {
      "cell_type": "code",
      "execution_count": null,
      "metadata": {
        "id": "RPdNRFdkSa3s"
      },
      "outputs": [],
      "source": [
        "band_gaps = []\n",
        "formula = []\n",
        "\n",
        "for r in tqdm(docs[:1000]):\n",
        "    bg = r.band_gap\n",
        "    fl = r.formula_pretty\n",
        "\n",
        "    full_structure = mpr.get_structure_by_material_id(r.material_id)\n",
        "    structure = full_structure[0]\n",
        "\n",
        "    output_df = pd.concat([output_df, pd.DataFrame(uneven_dict_converter(descriptors(r)))], ignore_index=True)\n",
        "\n",
        "    band_gaps += [bg]\n",
        "    formula += [fl]\n",
        "\n",
        "# dataset_df = pd.DataFrame(dataset)\n"
      ]
    },
    {
      "cell_type": "code",
      "source": [
        "for r in tqdm(docs[1000:2000]):\n",
        "    bg = r.band_gap\n",
        "    fl = r.formula_pretty\n",
        "\n",
        "    full_structure = mpr.get_structure_by_material_id(r.material_id)\n",
        "    structure = full_structure[0]\n",
        "\n",
        "    output_df = pd.concat([output_df, pd.DataFrame(uneven_dict_converter(descriptors(r)))], ignore_index=True)\n",
        "\n",
        "    band_gaps += [bg]\n",
        "    formula += [fl]"
      ],
      "metadata": {
        "id": "SAI7nwqLzF7Y"
      },
      "execution_count": null,
      "outputs": []
    },
    {
      "cell_type": "code",
      "execution_count": null,
      "metadata": {
        "id": "CTLBw56Gw3bD"
      },
      "outputs": [],
      "source": [
        "for r in tqdm(docs[2000:3000]):\n",
        "    bg = r.band_gap\n",
        "    fl = r.formula_pretty\n",
        "\n",
        "    full_structure = mpr.get_structure_by_material_id(r.material_id)\n",
        "    structure = full_structure[0]\n",
        "\n",
        "    output_df = pd.concat([output_df, pd.DataFrame(uneven_dict_converter(descriptors(r)))], ignore_index=True)\n",
        "\n",
        "    band_gaps += [bg]\n",
        "    formula += [fl]"
      ]
    },
    {
      "cell_type": "code",
      "source": [
        "for r in tqdm(docs[3000:4000]):\n",
        "    bg = r.band_gap\n",
        "    fl = r.formula_pretty\n",
        "\n",
        "    full_structure = mpr.get_structure_by_material_id(r.material_id)\n",
        "    structure = full_structure[0]\n",
        "\n",
        "    output_df = pd.concat([output_df, pd.DataFrame(uneven_dict_converter(descriptors(r)))], ignore_index=True)\n",
        "\n",
        "    band_gaps += [bg]\n",
        "    formula += [fl]"
      ],
      "metadata": {
        "id": "KGz4ayCNzSxr"
      },
      "execution_count": null,
      "outputs": []
    },
    {
      "cell_type": "code",
      "source": [
        "for r in tqdm(docs[4000:5000]):\n",
        "    bg = r.band_gap\n",
        "    fl = r.formula_pretty\n",
        "\n",
        "    full_structure = mpr.get_structure_by_material_id(r.material_id)\n",
        "    structure = full_structure[0]\n",
        "\n",
        "    output_df = pd.concat([output_df, pd.DataFrame(uneven_dict_converter(descriptors(r)))], ignore_index=True)\n",
        "\n",
        "    band_gaps += [bg]\n",
        "    formula += [fl]"
      ],
      "metadata": {
        "collapsed": true,
        "id": "jA91VZCLzYPC"
      },
      "execution_count": null,
      "outputs": []
    },
    {
      "cell_type": "code",
      "execution_count": null,
      "metadata": {
        "id": "41Yoj9yYi2Jv"
      },
      "outputs": [],
      "source": [
        "final_df = pd.concat([output_df, pd.DataFrame({ 'formula': formula, 'band_gap': band_gaps})], axis=1)"
      ]
    },
    {
      "cell_type": "code",
      "execution_count": null,
      "metadata": {
        "id": "IHiA84TqPd-W"
      },
      "outputs": [],
      "source": [
        "final_df.to_csv('SiliconProjectBandgap_dataset.csv', index=False)"
      ]
    },
    {
      "cell_type": "code",
      "execution_count": null,
      "metadata": {
        "id": "bHk_KBdVf_QZ"
      },
      "outputs": [],
      "source": [
        "final_df"
      ]
    },
    {
      "cell_type": "code",
      "execution_count": null,
      "metadata": {
        "id": "vhnZMpLIXBFo"
      },
      "outputs": [],
      "source": [
        "import matplotlib.pyplot as plt\n",
        "\n",
        "plt.rcParams.update({'font.size': 20})\n",
        "band_gaps = [bg for bg in band_gaps if bg is not None]\n",
        "print(len(band_gaps))\n",
        "print(len(dataset_df))\n",
        "print(band_gaps)\n",
        "print(dataset_df)\n",
        "plt.figure(figsize=(10, 10))\n",
        "plt.hist(band_gaps, bins=100)\n",
        "plt.savefig('Histogram_PDF', bbox_inches='tight')"
      ]
    },
    {
      "cell_type": "code",
      "execution_count": null,
      "metadata": {
        "id": "JPQNovtChyEa"
      },
      "outputs": [],
      "source": [
        "band_gaps_sorted=sorted(band_gaps)\n",
        "\n",
        "# Scatter plot\n",
        "plt.figure(figsize=(10,10))\n",
        "plt.plot(band_gaps_sorted)\n",
        "plt.ylabel('')\n",
        "plt.xlabel('')\n",
        "plt.savefig('ScatterPlot', bbox_inches='tight')"
      ]
    }
  ],
  "metadata": {
    "colab": {
      "provenance": []
    },
    "kernelspec": {
      "display_name": "Python 3",
      "name": "python3"
    },
    "language_info": {
      "name": "python"
    },
    "widgets": {
      "application/vnd.jupyter.widget-state+json": {
        "5d30fb6f85f6418cb0aac01fa5e39321": {
          "model_module": "@jupyter-widgets/controls",
          "model_name": "HBoxModel",
          "model_module_version": "1.5.0",
          "state": {
            "_dom_classes": [],
            "_model_module": "@jupyter-widgets/controls",
            "_model_module_version": "1.5.0",
            "_model_name": "HBoxModel",
            "_view_count": null,
            "_view_module": "@jupyter-widgets/controls",
            "_view_module_version": "1.5.0",
            "_view_name": "HBoxView",
            "box_style": "",
            "children": [
              "IPY_MODEL_13d90735808a4ba9adb68a1a9980c106",
              "IPY_MODEL_fc199667a0a7481585ce4d8a4730b2ae",
              "IPY_MODEL_d1407a3fbcc6435a8697fe3229bbda27"
            ],
            "layout": "IPY_MODEL_844bfe8c8a4e491bb873d383839261ff"
          }
        },
        "13d90735808a4ba9adb68a1a9980c106": {
          "model_module": "@jupyter-widgets/controls",
          "model_name": "HTMLModel",
          "model_module_version": "1.5.0",
          "state": {
            "_dom_classes": [],
            "_model_module": "@jupyter-widgets/controls",
            "_model_module_version": "1.5.0",
            "_model_name": "HTMLModel",
            "_view_count": null,
            "_view_module": "@jupyter-widgets/controls",
            "_view_module_version": "1.5.0",
            "_view_name": "HTMLView",
            "description": "",
            "description_tooltip": null,
            "layout": "IPY_MODEL_995ae1d9e1a64e1abb185698577b3099",
            "placeholder": "​",
            "style": "IPY_MODEL_670f6fb32a51410aacad56e05633996f",
            "value": "Retrieving SummaryDoc documents: 100%"
          }
        },
        "fc199667a0a7481585ce4d8a4730b2ae": {
          "model_module": "@jupyter-widgets/controls",
          "model_name": "FloatProgressModel",
          "model_module_version": "1.5.0",
          "state": {
            "_dom_classes": [],
            "_model_module": "@jupyter-widgets/controls",
            "_model_module_version": "1.5.0",
            "_model_name": "FloatProgressModel",
            "_view_count": null,
            "_view_module": "@jupyter-widgets/controls",
            "_view_module_version": "1.5.0",
            "_view_name": "ProgressView",
            "bar_style": "success",
            "description": "",
            "description_tooltip": null,
            "layout": "IPY_MODEL_e2cc74ec92f54a36a575908364355b5d",
            "max": 12658,
            "min": 0,
            "orientation": "horizontal",
            "style": "IPY_MODEL_5d7092e7bd00474ab42e62a3e45f0d11",
            "value": 12658
          }
        },
        "d1407a3fbcc6435a8697fe3229bbda27": {
          "model_module": "@jupyter-widgets/controls",
          "model_name": "HTMLModel",
          "model_module_version": "1.5.0",
          "state": {
            "_dom_classes": [],
            "_model_module": "@jupyter-widgets/controls",
            "_model_module_version": "1.5.0",
            "_model_name": "HTMLModel",
            "_view_count": null,
            "_view_module": "@jupyter-widgets/controls",
            "_view_module_version": "1.5.0",
            "_view_name": "HTMLView",
            "description": "",
            "description_tooltip": null,
            "layout": "IPY_MODEL_bd2bc0ae047d4aba949ffd1574de27ca",
            "placeholder": "​",
            "style": "IPY_MODEL_2ad8c48e5c4b423fa6d270ba98ad90b3",
            "value": " 12658/12658 [00:03&lt;00:00, 2865.63it/s]"
          }
        },
        "844bfe8c8a4e491bb873d383839261ff": {
          "model_module": "@jupyter-widgets/base",
          "model_name": "LayoutModel",
          "model_module_version": "1.2.0",
          "state": {
            "_model_module": "@jupyter-widgets/base",
            "_model_module_version": "1.2.0",
            "_model_name": "LayoutModel",
            "_view_count": null,
            "_view_module": "@jupyter-widgets/base",
            "_view_module_version": "1.2.0",
            "_view_name": "LayoutView",
            "align_content": null,
            "align_items": null,
            "align_self": null,
            "border": null,
            "bottom": null,
            "display": null,
            "flex": null,
            "flex_flow": null,
            "grid_area": null,
            "grid_auto_columns": null,
            "grid_auto_flow": null,
            "grid_auto_rows": null,
            "grid_column": null,
            "grid_gap": null,
            "grid_row": null,
            "grid_template_areas": null,
            "grid_template_columns": null,
            "grid_template_rows": null,
            "height": null,
            "justify_content": null,
            "justify_items": null,
            "left": null,
            "margin": null,
            "max_height": null,
            "max_width": null,
            "min_height": null,
            "min_width": null,
            "object_fit": null,
            "object_position": null,
            "order": null,
            "overflow": null,
            "overflow_x": null,
            "overflow_y": null,
            "padding": null,
            "right": null,
            "top": null,
            "visibility": null,
            "width": null
          }
        },
        "995ae1d9e1a64e1abb185698577b3099": {
          "model_module": "@jupyter-widgets/base",
          "model_name": "LayoutModel",
          "model_module_version": "1.2.0",
          "state": {
            "_model_module": "@jupyter-widgets/base",
            "_model_module_version": "1.2.0",
            "_model_name": "LayoutModel",
            "_view_count": null,
            "_view_module": "@jupyter-widgets/base",
            "_view_module_version": "1.2.0",
            "_view_name": "LayoutView",
            "align_content": null,
            "align_items": null,
            "align_self": null,
            "border": null,
            "bottom": null,
            "display": null,
            "flex": null,
            "flex_flow": null,
            "grid_area": null,
            "grid_auto_columns": null,
            "grid_auto_flow": null,
            "grid_auto_rows": null,
            "grid_column": null,
            "grid_gap": null,
            "grid_row": null,
            "grid_template_areas": null,
            "grid_template_columns": null,
            "grid_template_rows": null,
            "height": null,
            "justify_content": null,
            "justify_items": null,
            "left": null,
            "margin": null,
            "max_height": null,
            "max_width": null,
            "min_height": null,
            "min_width": null,
            "object_fit": null,
            "object_position": null,
            "order": null,
            "overflow": null,
            "overflow_x": null,
            "overflow_y": null,
            "padding": null,
            "right": null,
            "top": null,
            "visibility": null,
            "width": null
          }
        },
        "670f6fb32a51410aacad56e05633996f": {
          "model_module": "@jupyter-widgets/controls",
          "model_name": "DescriptionStyleModel",
          "model_module_version": "1.5.0",
          "state": {
            "_model_module": "@jupyter-widgets/controls",
            "_model_module_version": "1.5.0",
            "_model_name": "DescriptionStyleModel",
            "_view_count": null,
            "_view_module": "@jupyter-widgets/base",
            "_view_module_version": "1.2.0",
            "_view_name": "StyleView",
            "description_width": ""
          }
        },
        "e2cc74ec92f54a36a575908364355b5d": {
          "model_module": "@jupyter-widgets/base",
          "model_name": "LayoutModel",
          "model_module_version": "1.2.0",
          "state": {
            "_model_module": "@jupyter-widgets/base",
            "_model_module_version": "1.2.0",
            "_model_name": "LayoutModel",
            "_view_count": null,
            "_view_module": "@jupyter-widgets/base",
            "_view_module_version": "1.2.0",
            "_view_name": "LayoutView",
            "align_content": null,
            "align_items": null,
            "align_self": null,
            "border": null,
            "bottom": null,
            "display": null,
            "flex": null,
            "flex_flow": null,
            "grid_area": null,
            "grid_auto_columns": null,
            "grid_auto_flow": null,
            "grid_auto_rows": null,
            "grid_column": null,
            "grid_gap": null,
            "grid_row": null,
            "grid_template_areas": null,
            "grid_template_columns": null,
            "grid_template_rows": null,
            "height": null,
            "justify_content": null,
            "justify_items": null,
            "left": null,
            "margin": null,
            "max_height": null,
            "max_width": null,
            "min_height": null,
            "min_width": null,
            "object_fit": null,
            "object_position": null,
            "order": null,
            "overflow": null,
            "overflow_x": null,
            "overflow_y": null,
            "padding": null,
            "right": null,
            "top": null,
            "visibility": null,
            "width": null
          }
        },
        "5d7092e7bd00474ab42e62a3e45f0d11": {
          "model_module": "@jupyter-widgets/controls",
          "model_name": "ProgressStyleModel",
          "model_module_version": "1.5.0",
          "state": {
            "_model_module": "@jupyter-widgets/controls",
            "_model_module_version": "1.5.0",
            "_model_name": "ProgressStyleModel",
            "_view_count": null,
            "_view_module": "@jupyter-widgets/base",
            "_view_module_version": "1.2.0",
            "_view_name": "StyleView",
            "bar_color": null,
            "description_width": ""
          }
        },
        "bd2bc0ae047d4aba949ffd1574de27ca": {
          "model_module": "@jupyter-widgets/base",
          "model_name": "LayoutModel",
          "model_module_version": "1.2.0",
          "state": {
            "_model_module": "@jupyter-widgets/base",
            "_model_module_version": "1.2.0",
            "_model_name": "LayoutModel",
            "_view_count": null,
            "_view_module": "@jupyter-widgets/base",
            "_view_module_version": "1.2.0",
            "_view_name": "LayoutView",
            "align_content": null,
            "align_items": null,
            "align_self": null,
            "border": null,
            "bottom": null,
            "display": null,
            "flex": null,
            "flex_flow": null,
            "grid_area": null,
            "grid_auto_columns": null,
            "grid_auto_flow": null,
            "grid_auto_rows": null,
            "grid_column": null,
            "grid_gap": null,
            "grid_row": null,
            "grid_template_areas": null,
            "grid_template_columns": null,
            "grid_template_rows": null,
            "height": null,
            "justify_content": null,
            "justify_items": null,
            "left": null,
            "margin": null,
            "max_height": null,
            "max_width": null,
            "min_height": null,
            "min_width": null,
            "object_fit": null,
            "object_position": null,
            "order": null,
            "overflow": null,
            "overflow_x": null,
            "overflow_y": null,
            "padding": null,
            "right": null,
            "top": null,
            "visibility": null,
            "width": null
          }
        },
        "2ad8c48e5c4b423fa6d270ba98ad90b3": {
          "model_module": "@jupyter-widgets/controls",
          "model_name": "DescriptionStyleModel",
          "model_module_version": "1.5.0",
          "state": {
            "_model_module": "@jupyter-widgets/controls",
            "_model_module_version": "1.5.0",
            "_model_name": "DescriptionStyleModel",
            "_view_count": null,
            "_view_module": "@jupyter-widgets/base",
            "_view_module_version": "1.2.0",
            "_view_name": "StyleView",
            "description_width": ""
          }
        }
      }
    }
  },
  "nbformat": 4,
  "nbformat_minor": 0
}