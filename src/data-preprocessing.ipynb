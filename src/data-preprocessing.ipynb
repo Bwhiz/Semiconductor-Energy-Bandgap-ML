{
 "cells": [
  {
   "cell_type": "code",
   "execution_count": 2,
   "id": "eb987d89-b3cc-4cc7-8384-c24b5cd1b54a",
   "metadata": {},
   "outputs": [],
   "source": [
    "import pandas as pd\n",
    "import warnings\n",
    "import ast\n",
    "\n",
    "warnings.filterwarnings('ignore')"
   ]
  },
  {
   "cell_type": "code",
   "execution_count": 8,
   "id": "7b2fb364-612c-4f4d-89da-a51a2a239091",
   "metadata": {},
   "outputs": [],
   "source": [
    "pd.set_option('display.max_column', None)"
   ]
  },
  {
   "cell_type": "markdown",
   "id": "f602d627-6fa9-460e-a967-648a52809a14",
   "metadata": {},
   "source": [
    "## Silicon:"
   ]
  },
  {
   "cell_type": "code",
   "execution_count": 20,
   "id": "456c38c1-9e9d-4857-b426-e475295c187f",
   "metadata": {},
   "outputs": [],
   "source": [
    "data = pd.read_csv('SiliconProjectBandgap_dataset.csv')"
   ]
  },
  {
   "cell_type": "code",
   "execution_count": 4,
   "id": "20fa1eee-be7e-4381-a67c-0c66e92d9ab6",
   "metadata": {},
   "outputs": [
    {
     "data": {
      "text/plain": [
       "(5000, 29)"
      ]
     },
     "execution_count": 4,
     "metadata": {},
     "output_type": "execute_result"
    }
   ],
   "source": [
    "data.shape"
   ]
  },
  {
   "cell_type": "code",
   "execution_count": 14,
   "id": "c9aaee6e-107b-4756-b5f4-4b51c25f0c19",
   "metadata": {},
   "outputs": [
    {
     "data": {
      "text/plain": [
       "Index(['atomic_numbers', 'volume_per_atom', 'empty_volume', 'metals_fraction',\n",
       "       'distance_matrix', 'van_der_waals_radius', 'electrical_resistivity',\n",
       "       'velocity_of_sound', 'reflectivity', 'poissons_ratio', 'molar_volume',\n",
       "       'thermal_conductivity', 'melting_point', 'critical_temperature',\n",
       "       'superconduction_temperature', 'liquid_range', 'bulk_modulus',\n",
       "       'youngs_modulus', 'brinell_hardness', 'rigidity_modulus',\n",
       "       'vickers_hardness', 'density_of_solid',\n",
       "       'coefficient_of_linear_thermal_expansion', 'average_ionic_radius',\n",
       "       'average_cationic_radius', 'average_anionic_radius',\n",
       "       'spacegroup_numbers', 'formula', 'band_gap'],\n",
       "      dtype='object')"
      ]
     },
     "execution_count": 14,
     "metadata": {},
     "output_type": "execute_result"
    }
   ],
   "source": [
    "data.columns"
   ]
  },
  {
   "cell_type": "code",
   "execution_count": 66,
   "id": "837ec4db-cf74-403e-ae97-27abad1fda3d",
   "metadata": {},
   "outputs": [],
   "source": [
    "df = data.copy()\n"
   ]
  },
  {
   "cell_type": "code",
   "execution_count": 67,
   "id": "d52c796d-a376-4fb5-8f42-43049faa3a59",
   "metadata": {},
   "outputs": [],
   "source": [
    "band_gap = df['band_gap'].copy()"
   ]
  },
  {
   "cell_type": "code",
   "execution_count": 68,
   "id": "6fb161e1-fa6d-4660-8134-88dc5a293370",
   "metadata": {},
   "outputs": [],
   "source": [
    "df = df.drop(['spacegroup_numbers', 'formula', 'band_gap'], axis=1)"
   ]
  },
  {
   "cell_type": "code",
   "execution_count": 69,
   "id": "028e515e-394f-4e5f-9656-dbf2042e35c8",
   "metadata": {},
   "outputs": [],
   "source": [
    "def safe_literal_eval(val):\n",
    "    try:\n",
    "        return ast.literal_eval(val)\n",
    "    except (ValueError, SyntaxError):\n",
    "        print(val)\n",
    "        return val"
   ]
  },
  {
   "cell_type": "code",
   "execution_count": 80,
   "id": "8c8736ba-696b-4985-9861-75608cac8c7f",
   "metadata": {},
   "outputs": [],
   "source": [
    "sample = df.applymap(safe_literal_eval)"
   ]
  },
  {
   "cell_type": "code",
   "execution_count": 92,
   "id": "879cefc1-098f-4884-ae76-b68d91b89a0a",
   "metadata": {},
   "outputs": [],
   "source": [
    "def expand_df(df, cols_to_expand):\n",
    "    expanded_dfs = []\n",
    "    \n",
    "    suffixes = ['mean', 'max', 'min', 'std']\n",
    "    \n",
    "    for column in cols_to_expand:\n",
    "\n",
    "        expanded_df = pd.DataFrame(df[column].tolist())\n",
    "        \n",
    "        num_columns = expanded_df.shape[1]\n",
    "        \n",
    "        if num_columns == 4:\n",
    "            expanded_df.columns = [f'{column}_{suffix}' for suffix in suffixes]\n",
    "        elif num_columns == 1:\n",
    "            expanded_df.columns = [column]\n",
    "        else:\n",
    "            expanded_df.columns = [f'{column}_{i+1}' for i in range(num_columns)]\n",
    "        \n",
    "        expanded_dfs.append(expanded_df)\n",
    "    \n",
    "    # Concatenate the original dataframe with all the expanded columns\n",
    "    expanded_df_final = pd.concat([df.drop(columns=cols_to_expand)] + expanded_dfs, axis=1)\n",
    "    \n",
    "    return expanded_df_final\n"
   ]
  },
  {
   "cell_type": "code",
   "execution_count": 93,
   "id": "a9ec0e98-fbc4-4570-ab24-e637a210b952",
   "metadata": {},
   "outputs": [],
   "source": [
    "X = expand_df_(sample, sample.columns)"
   ]
  },
  {
   "cell_type": "code",
   "execution_count": 94,
   "id": "dfaa5844-aa70-41c5-89ad-7114194dbd05",
   "metadata": {},
   "outputs": [
    {
     "data": {
      "text/plain": [
       "(5000, 95)"
      ]
     },
     "execution_count": 94,
     "metadata": {},
     "output_type": "execute_result"
    }
   ],
   "source": [
    "X.shape"
   ]
  },
  {
   "cell_type": "code",
   "execution_count": 95,
   "id": "55288893-0e8d-494a-98f1-227e6b89ceb9",
   "metadata": {},
   "outputs": [
    {
     "data": {
      "text/plain": [
       "Index(['atomic_numbers_mean', 'atomic_numbers_max', 'atomic_numbers_min',\n",
       "       'atomic_numbers_std', 'volume_per_atom', 'empty_volume',\n",
       "       'metals_fraction', 'distance_matrix_mean', 'distance_matrix_max',\n",
       "       'distance_matrix_min', 'distance_matrix_std',\n",
       "       'van_der_waals_radius_mean', 'van_der_waals_radius_max',\n",
       "       'van_der_waals_radius_min', 'van_der_waals_radius_std',\n",
       "       'electrical_resistivity_mean', 'electrical_resistivity_max',\n",
       "       'electrical_resistivity_min', 'electrical_resistivity_std',\n",
       "       'velocity_of_sound_mean', 'velocity_of_sound_max',\n",
       "       'velocity_of_sound_min', 'velocity_of_sound_std', 'reflectivity_mean',\n",
       "       'reflectivity_max', 'reflectivity_min', 'reflectivity_std',\n",
       "       'poissons_ratio_mean', 'poissons_ratio_max', 'poissons_ratio_min',\n",
       "       'poissons_ratio_std', 'molar_volume_mean', 'molar_volume_max',\n",
       "       'molar_volume_min', 'molar_volume_std', 'thermal_conductivity_mean',\n",
       "       'thermal_conductivity_max', 'thermal_conductivity_min',\n",
       "       'thermal_conductivity_std', 'melting_point_mean', 'melting_point_max',\n",
       "       'melting_point_min', 'melting_point_std', 'critical_temperature_mean',\n",
       "       'critical_temperature_max', 'critical_temperature_min',\n",
       "       'critical_temperature_std', 'superconduction_temperature_mean',\n",
       "       'superconduction_temperature_max', 'superconduction_temperature_min',\n",
       "       'superconduction_temperature_std', 'liquid_range_mean',\n",
       "       'liquid_range_max', 'liquid_range_min', 'liquid_range_std',\n",
       "       'bulk_modulus_mean', 'bulk_modulus_max', 'bulk_modulus_min',\n",
       "       'bulk_modulus_std', 'youngs_modulus_mean', 'youngs_modulus_max',\n",
       "       'youngs_modulus_min', 'youngs_modulus_std', 'brinell_hardness_mean',\n",
       "       'brinell_hardness_max', 'brinell_hardness_min', 'brinell_hardness_std',\n",
       "       'rigidity_modulus_mean', 'rigidity_modulus_max', 'rigidity_modulus_min',\n",
       "       'rigidity_modulus_std', 'vickers_hardness_mean', 'vickers_hardness_max',\n",
       "       'vickers_hardness_min', 'vickers_hardness_std', 'density_of_solid_mean',\n",
       "       'density_of_solid_max', 'density_of_solid_min', 'density_of_solid_std',\n",
       "       'coefficient_of_linear_thermal_expansion_mean',\n",
       "       'coefficient_of_linear_thermal_expansion_max',\n",
       "       'coefficient_of_linear_thermal_expansion_min',\n",
       "       'coefficient_of_linear_thermal_expansion_std',\n",
       "       'average_ionic_radius_mean', 'average_ionic_radius_max',\n",
       "       'average_ionic_radius_min', 'average_ionic_radius_std',\n",
       "       'average_cationic_radius_mean', 'average_cationic_radius_max',\n",
       "       'average_cationic_radius_min', 'average_cationic_radius_std',\n",
       "       'average_anionic_radius_mean', 'average_anionic_radius_max',\n",
       "       'average_anionic_radius_min', 'average_anionic_radius_std'],\n",
       "      dtype='object')"
      ]
     },
     "execution_count": 95,
     "metadata": {},
     "output_type": "execute_result"
    }
   ],
   "source": [
    "X.columns"
   ]
  },
  {
   "cell_type": "code",
   "execution_count": 96,
   "id": "8c726928-eb59-4daf-8de2-c5110c7d5b6a",
   "metadata": {},
   "outputs": [
    {
     "name": "stdout",
     "output_type": "stream",
     "text": [
      "<class 'pandas.core.frame.DataFrame'>\n",
      "RangeIndex: 5000 entries, 0 to 4999\n",
      "Data columns (total 95 columns):\n",
      " #   Column                                        Non-Null Count  Dtype  \n",
      "---  ------                                        --------------  -----  \n",
      " 0   atomic_numbers_mean                           5000 non-null   float64\n",
      " 1   atomic_numbers_max                            5000 non-null   int64  \n",
      " 2   atomic_numbers_min                            5000 non-null   int64  \n",
      " 3   atomic_numbers_std                            5000 non-null   float64\n",
      " 4   volume_per_atom                               5000 non-null   float64\n",
      " 5   empty_volume                                  5000 non-null   float64\n",
      " 6   metals_fraction                               5000 non-null   float64\n",
      " 7   distance_matrix_mean                          5000 non-null   float64\n",
      " 8   distance_matrix_max                           5000 non-null   float64\n",
      " 9   distance_matrix_min                           5000 non-null   float64\n",
      " 10  distance_matrix_std                           5000 non-null   float64\n",
      " 11  van_der_waals_radius_mean                     5000 non-null   float64\n",
      " 12  van_der_waals_radius_max                      5000 non-null   float64\n",
      " 13  van_der_waals_radius_min                      5000 non-null   float64\n",
      " 14  van_der_waals_radius_std                      5000 non-null   float64\n",
      " 15  electrical_resistivity_mean                   5000 non-null   float64\n",
      " 16  electrical_resistivity_max                    5000 non-null   float64\n",
      " 17  electrical_resistivity_min                    5000 non-null   float64\n",
      " 18  electrical_resistivity_std                    5000 non-null   float64\n",
      " 19  velocity_of_sound_mean                        5000 non-null   float64\n",
      " 20  velocity_of_sound_max                         5000 non-null   float64\n",
      " 21  velocity_of_sound_min                         5000 non-null   float64\n",
      " 22  velocity_of_sound_std                         5000 non-null   float64\n",
      " 23  reflectivity_mean                             5000 non-null   float64\n",
      " 24  reflectivity_max                              5000 non-null   float64\n",
      " 25  reflectivity_min                              5000 non-null   float64\n",
      " 26  reflectivity_std                              5000 non-null   float64\n",
      " 27  poissons_ratio_mean                           5000 non-null   float64\n",
      " 28  poissons_ratio_max                            5000 non-null   float64\n",
      " 29  poissons_ratio_min                            5000 non-null   float64\n",
      " 30  poissons_ratio_std                            5000 non-null   float64\n",
      " 31  molar_volume_mean                             5000 non-null   float64\n",
      " 32  molar_volume_max                              5000 non-null   float64\n",
      " 33  molar_volume_min                              5000 non-null   float64\n",
      " 34  molar_volume_std                              5000 non-null   float64\n",
      " 35  thermal_conductivity_mean                     5000 non-null   float64\n",
      " 36  thermal_conductivity_max                      5000 non-null   float64\n",
      " 37  thermal_conductivity_min                      5000 non-null   float64\n",
      " 38  thermal_conductivity_std                      5000 non-null   float64\n",
      " 39  melting_point_mean                            5000 non-null   float64\n",
      " 40  melting_point_max                             5000 non-null   float64\n",
      " 41  melting_point_min                             5000 non-null   float64\n",
      " 42  melting_point_std                             5000 non-null   float64\n",
      " 43  critical_temperature_mean                     5000 non-null   float64\n",
      " 44  critical_temperature_max                      5000 non-null   float64\n",
      " 45  critical_temperature_min                      5000 non-null   float64\n",
      " 46  critical_temperature_std                      5000 non-null   float64\n",
      " 47  superconduction_temperature_mean              5000 non-null   float64\n",
      " 48  superconduction_temperature_max               5000 non-null   float64\n",
      " 49  superconduction_temperature_min               5000 non-null   float64\n",
      " 50  superconduction_temperature_std               5000 non-null   float64\n",
      " 51  liquid_range_mean                             5000 non-null   float64\n",
      " 52  liquid_range_max                              5000 non-null   float64\n",
      " 53  liquid_range_min                              5000 non-null   float64\n",
      " 54  liquid_range_std                              5000 non-null   float64\n",
      " 55  bulk_modulus_mean                             5000 non-null   float64\n",
      " 56  bulk_modulus_max                              5000 non-null   float64\n",
      " 57  bulk_modulus_min                              5000 non-null   float64\n",
      " 58  bulk_modulus_std                              5000 non-null   float64\n",
      " 59  youngs_modulus_mean                           5000 non-null   float64\n",
      " 60  youngs_modulus_max                            5000 non-null   float64\n",
      " 61  youngs_modulus_min                            5000 non-null   float64\n",
      " 62  youngs_modulus_std                            5000 non-null   float64\n",
      " 63  brinell_hardness_mean                         5000 non-null   float64\n",
      " 64  brinell_hardness_max                          5000 non-null   float64\n",
      " 65  brinell_hardness_min                          5000 non-null   float64\n",
      " 66  brinell_hardness_std                          5000 non-null   float64\n",
      " 67  rigidity_modulus_mean                         5000 non-null   float64\n",
      " 68  rigidity_modulus_max                          5000 non-null   float64\n",
      " 69  rigidity_modulus_min                          5000 non-null   float64\n",
      " 70  rigidity_modulus_std                          5000 non-null   float64\n",
      " 71  vickers_hardness_mean                         5000 non-null   float64\n",
      " 72  vickers_hardness_max                          5000 non-null   float64\n",
      " 73  vickers_hardness_min                          5000 non-null   float64\n",
      " 74  vickers_hardness_std                          5000 non-null   float64\n",
      " 75  density_of_solid_mean                         5000 non-null   float64\n",
      " 76  density_of_solid_max                          5000 non-null   float64\n",
      " 77  density_of_solid_min                          5000 non-null   float64\n",
      " 78  density_of_solid_std                          5000 non-null   float64\n",
      " 79  coefficient_of_linear_thermal_expansion_mean  5000 non-null   float64\n",
      " 80  coefficient_of_linear_thermal_expansion_max   5000 non-null   float64\n",
      " 81  coefficient_of_linear_thermal_expansion_min   5000 non-null   float64\n",
      " 82  coefficient_of_linear_thermal_expansion_std   5000 non-null   float64\n",
      " 83  average_ionic_radius_mean                     5000 non-null   float64\n",
      " 84  average_ionic_radius_max                      5000 non-null   float64\n",
      " 85  average_ionic_radius_min                      5000 non-null   float64\n",
      " 86  average_ionic_radius_std                      5000 non-null   float64\n",
      " 87  average_cationic_radius_mean                  5000 non-null   float64\n",
      " 88  average_cationic_radius_max                   5000 non-null   float64\n",
      " 89  average_cationic_radius_min                   5000 non-null   float64\n",
      " 90  average_cationic_radius_std                   5000 non-null   float64\n",
      " 91  average_anionic_radius_mean                   5000 non-null   float64\n",
      " 92  average_anionic_radius_max                    5000 non-null   float64\n",
      " 93  average_anionic_radius_min                    5000 non-null   float64\n",
      " 94  average_anionic_radius_std                    5000 non-null   float64\n",
      "dtypes: float64(93), int64(2)\n",
      "memory usage: 3.6 MB\n"
     ]
    }
   ],
   "source": [
    "X.info()"
   ]
  },
  {
   "cell_type": "code",
   "execution_count": null,
   "id": "dd7a4e4a-cc40-4b4c-8346-4799397a0ed8",
   "metadata": {},
   "outputs": [],
   "source": []
  }
 ],
 "metadata": {
  "kernelspec": {
   "display_name": "Python 3 (ipykernel)",
   "language": "python",
   "name": "python3"
  },
  "language_info": {
   "codemirror_mode": {
    "name": "ipython",
    "version": 3
   },
   "file_extension": ".py",
   "mimetype": "text/x-python",
   "name": "python",
   "nbconvert_exporter": "python",
   "pygments_lexer": "ipython3",
   "version": "3.8.10"
  }
 },
 "nbformat": 4,
 "nbformat_minor": 5
}
