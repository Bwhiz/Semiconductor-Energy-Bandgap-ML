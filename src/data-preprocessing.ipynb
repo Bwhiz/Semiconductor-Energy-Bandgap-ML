{
 "cells": [
  {
   "cell_type": "code",
   "execution_count": 2,
   "id": "eb987d89-b3cc-4cc7-8384-c24b5cd1b54a",
   "metadata": {},
   "outputs": [],
   "source": [
    "import pandas as pd\n",
    "import warnings\n",
    "import ast\n",
    "\n",
    "warnings.filterwarnings('ignore')"
   ]
  },
  {
   "cell_type": "code",
   "execution_count": 8,
   "id": "7b2fb364-612c-4f4d-89da-a51a2a239091",
   "metadata": {},
   "outputs": [],
   "source": [
    "pd.set_option('display.max_column', None)"
   ]
  },
  {
   "cell_type": "markdown",
   "id": "f602d627-6fa9-460e-a967-648a52809a14",
   "metadata": {},
   "source": [
    "## Load data:"
   ]
  },
  {
   "cell_type": "code",
   "execution_count": null,
   "id": "456c38c1-9e9d-4857-b426-e475295c187f",
   "metadata": {},
   "outputs": [],
   "source": [
    "si_data = pd.read_csv('./data/SiliconProjectBandgap_dataset.csv')\n",
    "ge_data = pd.read_csv_('./data/GermaniumProjectBandgap_dataset.csv')"
   ]
  },
  {
   "cell_type": "code",
   "execution_count": 67,
   "id": "d52c796d-a376-4fb5-8f42-43049faa3a59",
   "metadata": {},
   "outputs": [],
   "source": [
    "band_gap_si = si_data['band_gap'].copy()\n",
    "band_gap_ge = ge_data['band_gap'].copy()"
   ]
  },
  {
   "cell_type": "code",
   "execution_count": 68,
   "id": "6fb161e1-fa6d-4660-8134-88dc5a293370",
   "metadata": {},
   "outputs": [],
   "source": [
    "band_gap_si = band_gap_si.drop(['spacegroup_numbers', 'formula', 'band_gap'], axis=1)\n",
    "band_gap_ge = band_gap_ge.drop(['spacegroup_numbers', 'formula', 'band_gap'], axis=1)\n"
   ]
  },
  {
   "cell_type": "code",
   "execution_count": 69,
   "id": "028e515e-394f-4e5f-9656-dbf2042e35c8",
   "metadata": {},
   "outputs": [],
   "source": [
    "def safe_literal_eval(val):\n",
    "    try:\n",
    "        return ast.literal_eval(val)\n",
    "    except (ValueError, SyntaxError):\n",
    "        print(val)\n",
    "        return val"
   ]
  },
  {
   "cell_type": "code",
   "execution_count": 80,
   "id": "8c8736ba-696b-4985-9861-75608cac8c7f",
   "metadata": {},
   "outputs": [],
   "source": [
    "sample_si = band_gap_si.applymap(safe_literal_eval)\n",
    "sample_ge = band_gap_ge.applymap(safe_literal_eval)"
   ]
  },
  {
   "cell_type": "code",
   "execution_count": 92,
   "id": "879cefc1-098f-4884-ae76-b68d91b89a0a",
   "metadata": {},
   "outputs": [],
   "source": [
    "def expand_df(df, cols_to_expand):\n",
    "    expanded_dfs = []\n",
    "    \n",
    "    suffixes = ['mean', 'max', 'min', 'std']\n",
    "    \n",
    "    for column in cols_to_expand:\n",
    "\n",
    "        expanded_df = pd.DataFrame(df[column].tolist())\n",
    "        \n",
    "        num_columns = expanded_df.shape[1]\n",
    "        \n",
    "        if num_columns == 4:\n",
    "            expanded_df.columns = [f'{column}_{suffix}' for suffix in suffixes]\n",
    "        elif num_columns == 1:\n",
    "            expanded_df.columns = [column]\n",
    "        else:\n",
    "            expanded_df.columns = [f'{column}_{i+1}' for i in range(num_columns)]\n",
    "        \n",
    "        expanded_dfs.append(expanded_df)\n",
    "    \n",
    "    # Concatenate the original dataframe with all the expanded columns\n",
    "    expanded_df_final = pd.concat([df.drop(columns=cols_to_expand)] + expanded_dfs, axis=1)\n",
    "    \n",
    "    return expanded_df_final\n"
   ]
  },
  {
   "cell_type": "code",
   "execution_count": 93,
   "id": "a9ec0e98-fbc4-4570-ab24-e637a210b952",
   "metadata": {},
   "outputs": [],
   "source": [
    "silicon = expand_df(sample_si, sample_si.columns)\n",
    "germanium = expand_df(sample_ge, sample_ge.columns)"
   ]
  },
  {
   "cell_type": "code",
   "execution_count": null,
   "id": "dd7a4e4a-cc40-4b4c-8346-4799397a0ed8",
   "metadata": {},
   "outputs": [],
   "source": [
    "silicon.to_csv('./data/cleaned/silicon.csv')\n",
    "germanium.to_csv('./data/cleaned/germanium.csv')\n"
   ]
  }
 ],
 "metadata": {
  "kernelspec": {
   "display_name": "Python 3 (ipykernel)",
   "language": "python",
   "name": "python3"
  },
  "language_info": {
   "codemirror_mode": {
    "name": "ipython",
    "version": 3
   },
   "file_extension": ".py",
   "mimetype": "text/x-python",
   "name": "python",
   "nbconvert_exporter": "python",
   "pygments_lexer": "ipython3",
   "version": "3.8.10"
  }
 },
 "nbformat": 4,
 "nbformat_minor": 5
}
